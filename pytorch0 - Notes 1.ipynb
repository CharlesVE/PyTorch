{
 "cells": [
  {
   "cell_type": "code",
   "execution_count": 1,
   "metadata": {},
   "outputs": [],
   "source": [
    "import torch"
   ]
  },
  {
   "cell_type": "code",
   "execution_count": 4,
   "metadata": {},
   "outputs": [
    {
     "name": "stdout",
     "output_type": "stream",
     "text": [
      "tensor(2)\n"
     ]
    }
   ],
   "source": [
    "# tensor, with a lower case t\n",
    "# it can only accept 1 argument \n",
    "# it is to create a tensor with pre-existing data\n",
    "x = torch.tensor(2)\n",
    "\n",
    "print(x)"
   ]
  },
  {
   "cell_type": "code",
   "execution_count": 6,
   "metadata": {},
   "outputs": [
    {
     "name": "stdout",
     "output_type": "stream",
     "text": [
      "tensor([[0., 0.],\n",
      "        [0., 0.],\n",
      "        [0., 0.],\n",
      "        [0., 0.],\n",
      "        [0., 0.]])\n"
     ]
    }
   ],
   "source": [
    "# Tensor, with a capital T, creates a matrix with dimensions a*b\n",
    "# Tensors are respresented using the torch.Tensor class. Because torch.Tensor is class.\n",
    "# This is to represent either all the weights or all the activations from a single layer of neurons\n",
    "x = torch.Tensor(5,2)\n",
    "print(x)"
   ]
  },
  {
   "cell_type": "raw",
   "metadata": {},
   "source": [
    "Operations between tensors must occur between tensors of the same datatype. \n",
    "Note: the datatype of a tensor can vary based on if we're 32bit or 64 bit and if we're on the gpu or cpu.\n",
    "\n",
    "Below I believe these are the 3 variables that must be consistent if we are to do operations between tensors...\n",
    "1- dtype\n",
    "2- device\n",
    "3- layout"
   ]
  },
  {
   "cell_type": "code",
   "execution_count": 17,
   "metadata": {},
   "outputs": [
    {
     "name": "stdout",
     "output_type": "stream",
     "text": [
      "torch.float32\n",
      "cpu\n",
      "torch.strided\n"
     ]
    }
   ],
   "source": [
    "print(x.dtype)\n",
    "print(x.device)\n",
    "print(x.layout)"
   ]
  },
  {
   "cell_type": "raw",
   "metadata": {},
   "source": [
    "We can create as many devices as we like, just be mindful that tensor operations are occuring on the same device."
   ]
  },
  {
   "cell_type": "code",
   "execution_count": 8,
   "metadata": {},
   "outputs": [
    {
     "name": "stdout",
     "output_type": "stream",
     "text": [
      "tensor([[0., 0.],\n",
      "        [0., 0.],\n",
      "        [0., 0.],\n",
      "        [0., 0.],\n",
      "        [0., 0.]])\n"
     ]
    }
   ],
   "source": [
    "# zeros, creates a matrix of dimensions a*b with only zeros inside\n",
    "x = torch.zeros(5,2)\n",
    "print(x)"
   ]
  },
  {
   "cell_type": "code",
   "execution_count": 11,
   "metadata": {},
   "outputs": [
    {
     "data": {
      "text/plain": [
       "torch.Size([5, 2])"
      ]
     },
     "execution_count": 11,
     "metadata": {},
     "output_type": "execute_result"
    }
   ],
   "source": [
    "# shape returns the dimensions of a matrix, it doesn't need to be called as a function\n",
    "x.shape"
   ]
  },
  {
   "cell_type": "code",
   "execution_count": 14,
   "metadata": {},
   "outputs": [
    {
     "name": "stdout",
     "output_type": "stream",
     "text": [
      "tensor([[0.2058, 0.8207],\n",
      "        [0.5611, 0.5505],\n",
      "        [0.2190, 0.6679],\n",
      "        [0.4865, 0.8122],\n",
      "        [0.8196, 0.8193]])\n"
     ]
    }
   ],
   "source": [
    "# rand creates a matrix with random floats inside, I believe between 0 and 1\n",
    "# most likely since they have to be probabilities\n",
    "y = torch.rand(5,2)\n",
    "print(y)"
   ]
  },
  {
   "cell_type": "code",
   "execution_count": 18,
   "metadata": {},
   "outputs": [
    {
     "data": {
      "text/plain": [
       "tensor([[0.2058],\n",
       "        [0.8207],\n",
       "        [0.5611],\n",
       "        [0.5505],\n",
       "        [0.2190],\n",
       "        [0.6679],\n",
       "        [0.4865],\n",
       "        [0.8122],\n",
       "        [0.8196],\n",
       "        [0.8193]])"
      ]
     },
     "execution_count": 18,
     "metadata": {},
     "output_type": "execute_result"
    }
   ],
   "source": [
    "# view allows us to view a tensor array in a different set of dimenstions\n",
    "y.view([10,1])"
   ]
  },
  {
   "cell_type": "code",
   "execution_count": 19,
   "metadata": {},
   "outputs": [
    {
     "data": {
      "text/plain": [
       "tensor([[0.2058, 0.8207, 0.5611, 0.5505, 0.2190, 0.6679, 0.4865, 0.8122, 0.8196,\n",
       "         0.8193]])"
      ]
     },
     "execution_count": 19,
     "metadata": {},
     "output_type": "execute_result"
    }
   ],
   "source": [
    "y.view([1,10])"
   ]
  },
  {
   "cell_type": "code",
   "execution_count": null,
   "metadata": {},
   "outputs": [],
   "source": []
  }
 ],
 "metadata": {
  "kernelspec": {
   "display_name": "Python 3",
   "language": "python",
   "name": "python3"
  },
  "language_info": {
   "codemirror_mode": {
    "name": "ipython",
    "version": 3
   },
   "file_extension": ".py",
   "mimetype": "text/x-python",
   "name": "python",
   "nbconvert_exporter": "python",
   "pygments_lexer": "ipython3",
   "version": "3.7.6"
  }
 },
 "nbformat": 4,
 "nbformat_minor": 2
}
